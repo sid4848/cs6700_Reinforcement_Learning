{
  "nbformat": 4,
  "nbformat_minor": 0,
  "metadata": {
    "colab": {
      "provenance": []
    },
    "kernelspec": {
      "name": "python3",
      "display_name": "Python 3"
    },
    "language_info": {
      "name": "python"
    }
  },
  "cells": [
    {
      "cell_type": "markdown",
      "source": [
        "# Tutorial: Actor Critic Implementation"
      ],
      "metadata": {
        "id": "ogYi-LuvgAEQ"
      }
    },
    {
      "cell_type": "code",
      "source": [
        "#Import required libraries\n",
        "\n",
        "import argparse\n",
        "import gym\n",
        "import numpy as np\n",
        "from itertools import count\n",
        "from collections import namedtuple\n",
        "\n",
        "import torch\n",
        "import torch.nn as nn\n",
        "import torch.nn.functional as F\n",
        "import torch.optim as optim\n",
        "from torch.distributions import Categorical"
      ],
      "metadata": {
        "id": "020OsgLKgJoS"
      },
      "execution_count": 16,
      "outputs": []
    },
    {
      "cell_type": "code",
      "source": [
        "#Set constants for training\n",
        "seed = 543\n",
        "log_interval = 10\n",
        "gamma = 0.99\n",
        "\n",
        "env = gym.make('CartPole-v1')\n",
        "env.reset(seed=seed)\n",
        "torch.manual_seed(seed)\n",
        "\n",
        "SavedAction = namedtuple('SavedAction', ['log_prob', 'value'])\n"
      ],
      "metadata": {
        "colab": {
          "base_uri": "https://localhost:8080/"
        },
        "id": "BOx__gzXgP3T",
        "outputId": "d2617520-c515-4d0f-dc79-dcddaff66948"
      },
      "execution_count": 17,
      "outputs": [
        {
          "output_type": "stream",
          "name": "stderr",
          "text": [
            "/usr/local/lib/python3.10/dist-packages/gym/core.py:317: DeprecationWarning: \u001b[33mWARN: Initializing wrapper in old step API which returns one bool instead of two. It is recommended to set `new_step_api=True` to use new step API. This will be the default behaviour in future.\u001b[0m\n",
            "  deprecation(\n",
            "/usr/local/lib/python3.10/dist-packages/gym/wrappers/step_api_compatibility.py:39: DeprecationWarning: \u001b[33mWARN: Initializing environment in old step API which returns one bool instead of two. It is recommended to set `new_step_api=True` to use new step API. This will be the default behaviour in future.\u001b[0m\n",
            "  deprecation(\n"
          ]
        }
      ]
    },
    {
      "cell_type": "code",
      "execution_count": 18,
      "metadata": {
        "id": "dYf6f8SBeQYo"
      },
      "outputs": [],
      "source": [
        "env = gym.make('CartPole-v1')\n",
        "env.reset(seed=seed)\n",
        "torch.manual_seed(seed)\n",
        "\n",
        "\n",
        "SavedAction = namedtuple('SavedAction', ['log_prob', 'value'])\n",
        "\n",
        "\n",
        "class Policy(nn.Module):\n",
        "    \"\"\"\n",
        "    implements both actor and critic in one model\n",
        "    \"\"\"\n",
        "    def __init__(self):\n",
        "        super(Policy, self).__init__()\n",
        "        self.affine1 = nn.Linear(4, 128)\n",
        "\n",
        "        # actor's layer\n",
        "        self.action_head = nn.Linear(128, 2)\n",
        "\n",
        "        # critic's layer\n",
        "        self.value_head = nn.Linear(128, 1)\n",
        "\n",
        "        # action & reward buffer\n",
        "        self.saved_actions = []\n",
        "        self.rewards = []\n",
        "\n",
        "    def forward(self, x):\n",
        "        \"\"\"\n",
        "        forward of both actor and critic\n",
        "        \"\"\"\n",
        "        x = F.relu(self.affine1(x))\n",
        "\n",
        "        # actor: choses action to take from state s_t\n",
        "        # by returning probability of each action\n",
        "        action_prob = F.softmax(self.action_head(x), dim=-1)\n",
        "\n",
        "        # critic: evaluates being in the state s_t\n",
        "        state_values = self.value_head(x)\n",
        "\n",
        "        # return values for both actor and critic as a tuple of 2 values:\n",
        "        # 1. a list with the probability of each action over the action space\n",
        "        # 2. the value from state s_t\n",
        "        return action_prob, state_values"
      ]
    },
    {
      "cell_type": "code",
      "source": [
        "model = Policy()\n",
        "optimizer = optim.Adam(model.parameters(), lr=3e-2)\n",
        "eps = np.finfo(np.float32).eps.item()"
      ],
      "metadata": {
        "id": "i579JI1oi6dc"
      },
      "execution_count": 19,
      "outputs": []
    },
    {
      "cell_type": "code",
      "source": [
        "def select_action(state):\n",
        "    state = torch.from_numpy(state).float()\n",
        "    probs, state_value = model(state)\n",
        "\n",
        "    # create a categorical distribution over the list of probabilities of actions\n",
        "    m = Categorical(probs)\n",
        "\n",
        "    # and sample an action using the distribution\n",
        "    action = m.sample()\n",
        "\n",
        "    # save to action buffer\n",
        "    model.saved_actions.append(SavedAction(m.log_prob(action), state_value))\n",
        "\n",
        "    # the action to take (left or right)\n",
        "    return action.item()\n",
        "\n",
        "\n",
        "def finish_episode():\n",
        "    \"\"\"\n",
        "    Training code. Calculates actor and critic loss and performs backprop.\n",
        "    \"\"\"\n",
        "    R = 0\n",
        "    saved_actions = model.saved_actions\n",
        "    policy_losses = [] # list to save actor (policy) loss\n",
        "    value_losses = [] # list to save critic (value) loss\n",
        "    returns = [] # list to save the true values\n",
        "\n",
        "    # calculate the true value using rewards returned from the environment\n",
        "    for r in model.rewards[::-1]:\n",
        "        # calculate the discounted value\n",
        "        R = r + gamma * R\n",
        "        returns.insert(0, R)\n",
        "\n",
        "    returns = torch.tensor(returns)\n",
        "    returns = (returns - returns.mean()) / (returns.std() + eps)\n",
        "\n",
        "    for (log_prob, value), R in zip(saved_actions, returns):\n",
        "        advantage = R - value.item()\n",
        "\n",
        "        # calculate actor (policy) loss\n",
        "        policy_losses.append(-log_prob * advantage)\n",
        "\n",
        "        # calculate critic (value) loss using L1 smooth loss\n",
        "        value_losses.append(F.smooth_l1_loss(value, torch.tensor([R])))\n",
        "\n",
        "    # reset gradients\n",
        "    optimizer.zero_grad()\n",
        "\n",
        "    # sum up all the values of policy_losses and value_losses\n",
        "    loss = torch.stack(policy_losses).sum() + torch.stack(value_losses).sum()\n",
        "\n",
        "    # perform backprop\n",
        "    loss.backward()\n",
        "    optimizer.step()\n",
        "\n",
        "    # reset rewards and action buffer\n",
        "    del model.rewards[:]\n",
        "    del model.saved_actions[:]\n",
        "\n",
        "\n",
        "def train():\n",
        "    running_reward = 10\n",
        "\n",
        "    # run infinitely many episodes\n",
        "    for i_episode in range(2000):\n",
        "\n",
        "        # reset environment and episode reward\n",
        "        state = env.reset()\n",
        "        ep_reward = 0\n",
        "\n",
        "        # for each episode, only run 9999 steps so that we don't\n",
        "        # infinite loop while learning\n",
        "        for t in range(1, 10000):\n",
        "\n",
        "            # select action from policy\n",
        "            action = select_action(state)\n",
        "\n",
        "            # take the action\n",
        "            state, reward, done, _ = env.step(action)\n",
        "\n",
        "            model.rewards.append(reward)\n",
        "            ep_reward += reward\n",
        "            if done:\n",
        "                break\n",
        "\n",
        "        # update cumulative reward\n",
        "        running_reward = 0.05 * ep_reward + (1 - 0.05) * running_reward\n",
        "\n",
        "        # perform backprop\n",
        "        finish_episode()\n",
        "\n",
        "        # log results\n",
        "        if i_episode % log_interval == 0:\n",
        "            print('Episode {}\\tLast reward: {:.2f}\\tAverage reward: {:.2f}'.format(\n",
        "                  i_episode, ep_reward, running_reward))\n",
        "\n",
        "        # check if we have \"solved\" the cart pole problem\n",
        "        if running_reward > env.spec.reward_threshold:\n",
        "            print(\"Solved! Running reward is now {} and \"\n",
        "                  \"the last episode runs to {} time steps!\".format(running_reward, t))\n",
        "            break"
      ],
      "metadata": {
        "id": "qrVieI21i3O9"
      },
      "execution_count": 20,
      "outputs": []
    },
    {
      "cell_type": "code",
      "source": [
        "train()"
      ],
      "metadata": {
        "colab": {
          "base_uri": "https://localhost:8080/"
        },
        "id": "jUT3maPMlGi2",
        "outputId": "d76baabb-2208-4950-9d45-726393bb5f16"
      },
      "execution_count": 21,
      "outputs": [
        {
          "output_type": "stream",
          "name": "stdout",
          "text": [
            "Episode 0\tLast reward: 22.00\tAverage reward: 10.60\n",
            "Episode 10\tLast reward: 28.00\tAverage reward: 16.78\n",
            "Episode 20\tLast reward: 42.00\tAverage reward: 33.66\n",
            "Episode 30\tLast reward: 21.00\tAverage reward: 31.73\n",
            "Episode 40\tLast reward: 26.00\tAverage reward: 29.00\n",
            "Episode 50\tLast reward: 150.00\tAverage reward: 64.74\n",
            "Episode 60\tLast reward: 85.00\tAverage reward: 87.97\n",
            "Episode 70\tLast reward: 234.00\tAverage reward: 153.18\n",
            "Episode 80\tLast reward: 44.00\tAverage reward: 144.46\n",
            "Episode 90\tLast reward: 44.00\tAverage reward: 101.80\n",
            "Episode 100\tLast reward: 133.00\tAverage reward: 89.91\n",
            "Episode 110\tLast reward: 60.00\tAverage reward: 88.15\n",
            "Episode 120\tLast reward: 339.00\tAverage reward: 178.64\n",
            "Episode 130\tLast reward: 105.00\tAverage reward: 177.38\n",
            "Episode 140\tLast reward: 34.00\tAverage reward: 138.97\n",
            "Episode 150\tLast reward: 500.00\tAverage reward: 155.96\n",
            "Episode 160\tLast reward: 500.00\tAverage reward: 267.45\n",
            "Episode 170\tLast reward: 500.00\tAverage reward: 360.77\n",
            "Episode 180\tLast reward: 140.00\tAverage reward: 312.40\n",
            "Episode 190\tLast reward: 119.00\tAverage reward: 242.36\n",
            "Episode 200\tLast reward: 154.00\tAverage reward: 202.31\n",
            "Episode 210\tLast reward: 240.00\tAverage reward: 192.62\n",
            "Episode 220\tLast reward: 500.00\tAverage reward: 307.03\n",
            "Episode 230\tLast reward: 500.00\tAverage reward: 357.78\n",
            "Episode 240\tLast reward: 500.00\tAverage reward: 390.83\n",
            "Episode 250\tLast reward: 500.00\tAverage reward: 421.68\n",
            "Episode 260\tLast reward: 165.00\tAverage reward: 428.27\n",
            "Episode 270\tLast reward: 500.00\tAverage reward: 438.85\n",
            "Episode 280\tLast reward: 500.00\tAverage reward: 452.60\n",
            "Episode 290\tLast reward: 500.00\tAverage reward: 471.62\n",
            "Solved! Running reward is now 475.6650523591305 and the last episode runs to 500 time steps!\n"
          ]
        }
      ]
    },
    {
      "cell_type": "markdown",
      "source": [
        "# TODO: Write a policy class similar to the above, without using shared features for the actor and critic and compare their performance."
      ],
      "metadata": {
        "id": "lA2T0_22kK3g"
      }
    },
    {
      "cell_type": "code",
      "source": [
        "class UnsharedPolicy(nn.Module):\n",
        "    def __init__(self):\n",
        "        super(UnsharedPolicy, self).__init__()\n",
        "        # Define separate layers for actor and critic since they do not share features\n",
        "        self.actor_affine1 = nn.Linear(4, 128) # Actor layer\n",
        "        self.critic_affine1 = nn.Linear(4, 128) # Critic layer\n",
        "\n",
        "        # Actor's output layer\n",
        "        self.action_head = nn.Linear(128, 2)\n",
        "\n",
        "        # Critic's output layer\n",
        "        self.value_head = nn.Linear(128, 1)\n",
        "\n",
        "        # Action & reward buffer\n",
        "        self.saved_actions = []\n",
        "        self.rewards = []\n",
        "\n",
        "    def forward(self, x):\n",
        "        # Separate pathways for actor and critic\n",
        "        actor_x = F.relu(self.actor_affine1(x))\n",
        "        critic_x = F.relu(self.critic_affine1(x))\n",
        "\n",
        "        # Actor: chooses action to take from state s_t\n",
        "        # by returning probability of each action\n",
        "        action_prob = F.softmax(self.action_head(actor_x), dim=-1)\n",
        "\n",
        "        # Critic: evaluates being in the state s_t\n",
        "        state_values = self.value_head(critic_x)\n",
        "\n",
        "        # Return values for both actor and critic as a tuple of 2 values:\n",
        "        # 1. a list with the probability of each action over the action space\n",
        "        # 2. the value from state s_t\n",
        "        return action_prob, state_values"
      ],
      "metadata": {
        "id": "NEkpGSehpM8M"
      },
      "execution_count": 22,
      "outputs": []
    },
    {
      "cell_type": "code",
      "source": [
        "model = UnsharedPolicy()\n",
        "# Learning parameter changes from 3e-2 to 3e-3\n",
        "optimizer = optim.Adam(model.parameters(), lr=3e-3)\n",
        "eps = np.finfo(np.float32).eps.item()"
      ],
      "metadata": {
        "id": "l6UxnVPkkWkH"
      },
      "execution_count": 26,
      "outputs": []
    },
    {
      "cell_type": "code",
      "source": [
        "train()"
      ],
      "metadata": {
        "colab": {
          "base_uri": "https://localhost:8080/"
        },
        "id": "32X4dyTGsd5y",
        "outputId": "fa0b5c2e-bb62-4b96-9e22-29400b5d0bba"
      },
      "execution_count": 27,
      "outputs": [
        {
          "output_type": "stream",
          "name": "stdout",
          "text": [
            "Episode 0\tLast reward: 53.00\tAverage reward: 12.15\n",
            "Episode 10\tLast reward: 11.00\tAverage reward: 15.03\n",
            "Episode 20\tLast reward: 62.00\tAverage reward: 19.29\n",
            "Episode 30\tLast reward: 11.00\tAverage reward: 20.63\n",
            "Episode 40\tLast reward: 33.00\tAverage reward: 21.77\n",
            "Episode 50\tLast reward: 16.00\tAverage reward: 26.82\n",
            "Episode 60\tLast reward: 137.00\tAverage reward: 39.76\n",
            "Episode 70\tLast reward: 34.00\tAverage reward: 48.42\n",
            "Episode 80\tLast reward: 17.00\tAverage reward: 47.86\n",
            "Episode 90\tLast reward: 80.00\tAverage reward: 66.07\n",
            "Episode 100\tLast reward: 121.00\tAverage reward: 88.49\n",
            "Episode 110\tLast reward: 118.00\tAverage reward: 110.36\n",
            "Episode 120\tLast reward: 199.00\tAverage reward: 139.14\n",
            "Episode 130\tLast reward: 172.00\tAverage reward: 173.34\n",
            "Episode 140\tLast reward: 173.00\tAverage reward: 161.62\n",
            "Episode 150\tLast reward: 191.00\tAverage reward: 181.37\n",
            "Episode 160\tLast reward: 500.00\tAverage reward: 271.40\n",
            "Episode 170\tLast reward: 285.00\tAverage reward: 271.58\n",
            "Episode 180\tLast reward: 249.00\tAverage reward: 272.62\n",
            "Episode 190\tLast reward: 471.00\tAverage reward: 314.10\n",
            "Episode 200\tLast reward: 500.00\tAverage reward: 365.90\n",
            "Episode 210\tLast reward: 500.00\tAverage reward: 406.24\n",
            "Episode 220\tLast reward: 287.00\tAverage reward: 406.90\n",
            "Episode 230\tLast reward: 296.00\tAverage reward: 402.68\n",
            "Episode 240\tLast reward: 435.00\tAverage reward: 348.99\n",
            "Episode 250\tLast reward: 264.00\tAverage reward: 310.02\n",
            "Episode 260\tLast reward: 500.00\tAverage reward: 328.94\n",
            "Episode 270\tLast reward: 460.00\tAverage reward: 395.58\n",
            "Episode 280\tLast reward: 122.00\tAverage reward: 307.10\n",
            "Episode 290\tLast reward: 116.00\tAverage reward: 229.85\n",
            "Episode 300\tLast reward: 125.00\tAverage reward: 180.34\n",
            "Episode 310\tLast reward: 123.00\tAverage reward: 150.25\n",
            "Episode 320\tLast reward: 129.00\tAverage reward: 138.72\n",
            "Episode 330\tLast reward: 241.00\tAverage reward: 148.81\n",
            "Episode 340\tLast reward: 259.00\tAverage reward: 174.95\n",
            "Episode 350\tLast reward: 346.00\tAverage reward: 227.90\n",
            "Episode 360\tLast reward: 500.00\tAverage reward: 308.41\n",
            "Episode 370\tLast reward: 500.00\tAverage reward: 376.00\n",
            "Episode 380\tLast reward: 500.00\tAverage reward: 402.86\n",
            "Episode 390\tLast reward: 500.00\tAverage reward: 419.73\n",
            "Episode 400\tLast reward: 500.00\tAverage reward: 448.29\n",
            "Episode 410\tLast reward: 500.00\tAverage reward: 458.46\n",
            "Episode 420\tLast reward: 331.00\tAverage reward: 459.46\n",
            "Episode 430\tLast reward: 500.00\tAverage reward: 472.01\n",
            "Solved! Running reward is now 476.00371339359236 and the last episode runs to 500 time steps!\n"
          ]
        }
      ]
    },
    {
      "cell_type": "markdown",
      "source": [
        "# **Comparison**\n",
        "\n",
        "**Shared Policy:**\n",
        "- Episode 290: Last reward of 500.00, Average reward of 471.62\n",
        "Solved! Running reward is now 475.67, and the last episode runs\n",
        "to 500 time steps.\n",
        "\n",
        "**Unshared Policy:**\n",
        "- Episode 430: Last reward of 500.00, Average reward of 472.01\n",
        "Solved! Running reward is now 476.00, and the last episode runs to 500 time steps.\n",
        "\n",
        "Both policies achieved similar performance in terms of solving the environment, with the unshared policy slightly outperforming the shared policy by a small margin in terms of the running reward. However, the difference in performance is relatively minor, indicating that both approaches are effective for solving the CartPole environment within the specified constraints."
      ],
      "metadata": {
        "id": "igdqzxaBDtCv"
      }
    },
    {
      "cell_type": "code",
      "source": [],
      "metadata": {
        "id": "XHYPmKaBseul"
      },
      "execution_count": 25,
      "outputs": []
    }
  ]
}