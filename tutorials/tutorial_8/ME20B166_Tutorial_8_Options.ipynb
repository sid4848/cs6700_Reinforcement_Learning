{
  "cells": [
    {
      "cell_type": "markdown",
      "metadata": {
        "id": "pn7PKu9r0asK"
      },
      "source": [
        "# Tutorial 8 - Options\n",
        "\n",
        "Please complete this tutorial to get an overview of options and an implementation of SMDP Q-Learning and Intra-Option Q-Learning.\n",
        "\n",
        "\n",
        "### References:\n",
        "\n",
        " [Recent Advances in Hierarchical Reinforcement\n",
        "Learning](https://people.cs.umass.edu/~mahadeva/papers/hrl.pdf) is a strong recommendation for topics in HRL that was covered in class. Watch Prof. Ravi's lectures on moodle or nptel for further understanding the core concepts. Contact the TAs for further resources if needed.\n"
      ]
    },
    {
      "cell_type": "code",
      "source": [
        "!pip install numpy==1.23"
      ],
      "metadata": {
        "colab": {
          "base_uri": "https://localhost:8080/"
        },
        "id": "M7VFHIUuBIAz",
        "outputId": "92c517bc-e207-445d-f790-143670558f65"
      },
      "execution_count": 23,
      "outputs": [
        {
          "output_type": "stream",
          "name": "stdout",
          "text": [
            "Requirement already satisfied: numpy==1.23 in /usr/local/lib/python3.10/dist-packages (1.23.0)\n"
          ]
        }
      ]
    },
    {
      "cell_type": "code",
      "source": [
        "!pip install gym==0.22"
      ],
      "metadata": {
        "colab": {
          "base_uri": "https://localhost:8080/"
        },
        "id": "XMlL1eI2RBnM",
        "outputId": "9a83ecf3-5024-46c9-a40f-afde6c77ba52"
      },
      "execution_count": 1,
      "outputs": [
        {
          "output_type": "stream",
          "name": "stdout",
          "text": [
            "Requirement already satisfied: gym==0.22 in /usr/local/lib/python3.10/dist-packages (0.22.0)\n",
            "Requirement already satisfied: numpy>=1.18.0 in /usr/local/lib/python3.10/dist-packages (from gym==0.22) (1.23.0)\n",
            "Requirement already satisfied: cloudpickle>=1.2.0 in /usr/local/lib/python3.10/dist-packages (from gym==0.22) (2.2.1)\n",
            "Requirement already satisfied: gym-notices>=0.0.4 in /usr/local/lib/python3.10/dist-packages (from gym==0.22) (0.0.8)\n"
          ]
        }
      ]
    },
    {
      "cell_type": "code",
      "execution_count": 2,
      "metadata": {
        "id": "P_DODRgW_ZKS",
        "colab": {
          "base_uri": "https://localhost:8080/"
        },
        "outputId": "d7875141-e141-4d8e-bf8c-d10b4307dd86"
      },
      "outputs": [
        {
          "output_type": "stream",
          "name": "stderr",
          "text": [
            "\n"
          ]
        }
      ],
      "source": [
        "'''\n",
        "A bunch of imports, you don't have to worry about these\n",
        "'''\n",
        "\n",
        "import numpy as np\n",
        "import random\n",
        "import gym\n",
        "from gym.wrappers import Monitor\n",
        "import glob\n",
        "import io\n",
        "import matplotlib.pyplot as plt\n",
        "from IPython.display import HTML\n",
        "from tqdm import tqdm"
      ]
    },
    {
      "cell_type": "code",
      "execution_count": 3,
      "metadata": {
        "colab": {
          "base_uri": "https://localhost:8080/"
        },
        "id": "fYNA5kiH_esJ",
        "outputId": "2fc5c075-42ae-4b50-b29f-032d367c91ce"
      },
      "outputs": [
        {
          "output_type": "stream",
          "name": "stdout",
          "text": [
            "36\n",
            "Number of states: 48\n",
            "Number of actions that an agent can take: 4\n",
            "Action taken: right\n",
            "Transition probability: {'prob': 1.0}\n",
            "Next state: 36\n",
            "Reward recieved: -100\n",
            "Terminal state: False\n",
            "o  o  o  o  o  o  o  o  o  o  o  o\n",
            "o  o  o  o  o  o  o  o  o  o  o  o\n",
            "o  o  o  o  o  o  o  o  o  o  o  o\n",
            "x  C  C  C  C  C  C  C  C  C  C  T\n",
            "\n"
          ]
        }
      ],
      "source": [
        "'''\n",
        "The environment used here is extremely similar to the openai gym ones.\n",
        "At first glance it might look slightly different.\n",
        "The usual commands we use for our experiments are added to this cell to aid you\n",
        "work using this environment.\n",
        "'''\n",
        "\n",
        "#Setting up the environment\n",
        "from gym.envs.toy_text.cliffwalking import CliffWalkingEnv\n",
        "env = CliffWalkingEnv()\n",
        "\n",
        "env.reset()\n",
        "\n",
        "#Current State\n",
        "print(env.s)\n",
        "\n",
        "# 4x12 grid = 48 states\n",
        "print (\"Number of states:\", env.nS)\n",
        "\n",
        "# Primitive Actions\n",
        "action = [\"up\", \"right\", \"down\", \"left\"]\n",
        "#correspond to [0,1,2,3] that's actually passed to the environment\n",
        "\n",
        "# either go left, up, down or right\n",
        "print (\"Number of actions that an agent can take:\", env.nA)\n",
        "\n",
        "# Example Transitions\n",
        "rnd_action = random.randint(0, 3)\n",
        "print (\"Action taken:\", action[rnd_action])\n",
        "next_state, reward, is_terminal, t_prob = env.step(rnd_action)\n",
        "print (\"Transition probability:\", t_prob)\n",
        "print (\"Next state:\", next_state)\n",
        "print (\"Reward recieved:\", reward)\n",
        "print (\"Terminal state:\", is_terminal)\n",
        "env.render()"
      ]
    },
    {
      "cell_type": "markdown",
      "metadata": {
        "id": "apuaOxavDXus"
      },
      "source": [
        "#### Options\n",
        "We custom define very simple options here. They might not be the logical options for this settings deliberately chosen to visualise the Q Table better.\n"
      ]
    },
    {
      "cell_type": "code",
      "execution_count": 4,
      "metadata": {
        "id": "g4MRC1p2DZbp",
        "colab": {
          "base_uri": "https://localhost:8080/",
          "height": 53
        },
        "outputId": "a0b60b89-ea30-490d-9586-20b1652f23ac"
      },
      "outputs": [
        {
          "output_type": "execute_result",
          "data": {
            "text/plain": [
              "'\\nNow the new action space will contain\\nPrimitive Actions: [\"up\", \"right\", \"down\", \"left\"]\\nOptions: [\"Away\",\"Close\"]\\nTotal Actions :[\"up\", \"right\", \"down\", \"left\", \"Away\", \"Close\"]\\nCorresponding to [0,1,2,3,4,5]\\n'"
            ],
            "application/vnd.google.colaboratory.intrinsic+json": {
              "type": "string"
            }
          },
          "metadata": {},
          "execution_count": 4
        }
      ],
      "source": [
        "# We are defining two more options here\n",
        "# Option 1 [\"Away\"] - > Away from Cliff (ie keep going up)\n",
        "# Option 2 [\"Close\"] - > Close to Cliff (ie keep going down)\n",
        "\n",
        "def Away(env,state):\n",
        "\n",
        "    optdone = False\n",
        "    optact = 0\n",
        "\n",
        "    if (int(state/12) == 0):\n",
        "        optdone = True\n",
        "\n",
        "    return [optact,optdone]\n",
        "\n",
        "def Close(env,state):\n",
        "\n",
        "    optdone = False\n",
        "    optact = 2\n",
        "\n",
        "    if (int(state/12) == 2):\n",
        "        optdone = True\n",
        "\n",
        "    return [optact,optdone]\n",
        "\n",
        "\n",
        "'''\n",
        "Now the new action space will contain\n",
        "Primitive Actions: [\"up\", \"right\", \"down\", \"left\"]\n",
        "Options: [\"Away\",\"Close\"]\n",
        "Total Actions :[\"up\", \"right\", \"down\", \"left\", \"Away\", \"Close\"]\n",
        "Corresponding to [0,1,2,3,4,5]\n",
        "'''"
      ]
    },
    {
      "cell_type": "markdown",
      "metadata": {
        "id": "Jmv5c0XoK8GA"
      },
      "source": [
        "# Task 1\n",
        "Complete the code cell below\n"
      ]
    },
    {
      "cell_type": "code",
      "execution_count": 5,
      "metadata": {
        "id": "bh_oghc7Ledh"
      },
      "outputs": [],
      "source": [
        "# epsilon-greedy action selection function\n",
        "def egreedy_policy(q_values, state, epsilon):\n",
        "    if np.random.rand() < epsilon:\n",
        "        return np.random.randint(6)\n",
        "    else:\n",
        "        return np.argmax(q_values[state])"
      ]
    },
    {
      "cell_type": "markdown",
      "metadata": {
        "id": "N8VJYkqoLqlO"
      },
      "source": [
        "# Task 2\n",
        "Below is an incomplete code cell with the flow of SMDP Q-Learning. Complete the cell and train the agent using SMDP Q-Learning algorithm.\n",
        "Keep the **final Q-table** and **Update Frequency** table handy (You'll need it in TODO 4)"
      ]
    },
    {
      "cell_type": "code",
      "source": [
        "#### SMDP Q-Learning\n",
        "q_values_smdp = np.zeros((48,6))\n",
        "update_frequency_smdp = np.zeros((48, 6))\n",
        "\n",
        "# Add parameters you might need here\n",
        "gamma = 0.9\n",
        "alpha = 0.1\n",
        "\n",
        "# Iterate over 5000 episodes\n",
        "for _ in tqdm(range(1000)):\n",
        "    state = env.reset()\n",
        "    done = False\n",
        "\n",
        "\n",
        "    # While episode is not over\n",
        "    while not done:\n",
        "\n",
        "        # Choose action\n",
        "        action = egreedy_policy(q_values_smdp, state, epsilon=0.1)\n",
        "\n",
        "        # Checking if primitive action\n",
        "        if action < 4:\n",
        "            next_state, reward, done, _ = env.step(action)\n",
        "            best_next_action = np.argmax(q_values_smdp[next_state])\n",
        "            q_values_smdp[state, action] += alpha * (reward + gamma * q_values_smdp[next_state, best_next_action] - q_values_smdp[state, action])\n",
        "            update_frequency_smdp[state, action] += 1\n",
        "            state = next_state\n",
        "\n",
        "        # Checking if action chosen is an option\n",
        "        reward_bar = 0\n",
        "        if action == 4: # action => Away option\n",
        "            optdone = False\n",
        "            state_1 = state\n",
        "            steps = 0\n",
        "\n",
        "            while (optdone == False):\n",
        "                # Think about what this function might do?\n",
        "                optact, optdone = Away(env,state)\n",
        "                next_state, reward, done, _= env.step(optact)\n",
        "                # Is this formulation right? What is this term?\n",
        "                reward_bar = gamma*reward_bar + reward\n",
        "                # Complete SMDP Q-Learning Update\n",
        "                # Remember SMDP Updates. When & What do you update?\n",
        "                state = next_state\n",
        "                steps += 1\n",
        "\n",
        "            q_values_smdp[state_1, action] += alpha*(reward_bar + (gamma**steps)*np.max(q_values_smdp[state,:]) - q_values_smdp[state_1,action])\n",
        "            update_frequency_smdp[state_1, action] += 1\n",
        "\n",
        "        if action == 5: # action => Close option\n",
        "            state_1 = state\n",
        "            steps = 0\n",
        "            optdone = False\n",
        "            while (optdone == False):\n",
        "                optact, optdone = Away(env,state)\n",
        "                next_state, reward, done, _= env.step(optact)\n",
        "                reward_bar = gamma*reward_bar + reward\n",
        "                state = next_state\n",
        "                steps += 1\n",
        "\n",
        "            q_values_smdp[state_1, action] += alpha*(reward_bar + (gamma**steps)*np.max(q_values_smdp[state,:]) - q_values_smdp[state_1,action])\n",
        "            update_frequency_smdp[state_1, action] += 1"
      ],
      "metadata": {
        "colab": {
          "base_uri": "https://localhost:8080/"
        },
        "id": "-k1SwcGK6L3E",
        "outputId": "23519dd8-ecf0-40cd-f389-9a509369428b"
      },
      "execution_count": 21,
      "outputs": [
        {
          "output_type": "stream",
          "name": "stderr",
          "text": [
            "100%|██████████| 1000/1000 [00:01<00:00, 623.85it/s]\n"
          ]
        }
      ]
    },
    {
      "cell_type": "markdown",
      "metadata": {
        "id": "3SQFbRCHWQyO"
      },
      "source": [
        "# Task 3\n",
        "Using the same options and the SMDP code, implement Intra Option Q-Learning (In the code cell below). You *might not* always have to search through options to find the options with similar policies, think about it. Keep the **final Q-table** and **Update Frequency** table handy (You'll need it in TODO 4)\n",
        "\n"
      ]
    },
    {
      "cell_type": "code",
      "source": [
        "\n",
        "q_values_intra = np.zeros((48,6))\n",
        "update_frequency_intra = np.zeros((48, 6))\n",
        "gamma = 0.9\n",
        "alpha = 0.1\n",
        "epsilon = 0.1\n",
        "for _ in tqdm(range(1000)):\n",
        "    state = env.reset()\n",
        "    done = False\n",
        "\n",
        "    while not done:\n",
        "        action = egreedy_policy(q_values_intra, state, epsilon)\n",
        "        if action < 4:\n",
        "            next_state, reward, done, _ = env.step(action)\n",
        "\n",
        "            valid_options = [action]\n",
        "            if action == Away(env, state)[0]:\n",
        "                valid_options.append(4)\n",
        "            if action == Close(env, state)[0]:\n",
        "                valid_options.append(5)\n",
        "\n",
        "            for o in valid_options:\n",
        "                if o == 4:\n",
        "                    _, optdone = Away(env, state)\n",
        "                elif o == 5:\n",
        "                    _, optdone = Close(env, state)\n",
        "                else:\n",
        "                    optdone = True\n",
        "\n",
        "                beta = 1 if optdone else 0\n",
        "                Q_tilde = (1 - beta) * q_values_intra[next_state, o] + beta * max(q_values_intra[next_state, :])\n",
        "                q_values_intra[state, o] += alpha * (reward + gamma * Q_tilde - q_values_intra[state, o])\n",
        "                update_frequency_intra[state, o] += 1\n",
        "\n",
        "            state = next_state\n",
        "\n",
        "        reward_bar = 0\n",
        "        if action == 4:\n",
        "            steps = 0\n",
        "            optdone = False\n",
        "            while (optdone == False):\n",
        "                # Think about what this function might do?\n",
        "                optact, optdone = Away(env,state)\n",
        "                next_state, reward, done, _= env.step(optact)\n",
        "                # Is this formulation right? What is this term?\n",
        "                reward_bar = gamma*reward_bar + reward\n",
        "                # Complete SMDP Q-Learning Update\n",
        "                # Remember SMDP Updates. When & What do you update?\n",
        "                state = next_state\n",
        "                steps += 1\n",
        "\n",
        "            q_values_intra[state, action] += alpha*(reward_bar + (gamma**steps)*np.max(q_values_intra[state,:]) - q_values_intra[state,action])\n",
        "            update_frequency_intra[state, action] += 1\n",
        "\n",
        "        if action == 5:\n",
        "            steps = 0\n",
        "            optdone = False\n",
        "            while (optdone == False):\n",
        "                optact, optdone = Away(env,state)\n",
        "                next_state, reward, done, _= env.step(optact)\n",
        "                reward_bar = gamma*reward_bar + reward\n",
        "                state = next_state\n",
        "                steps += 1\n",
        "\n",
        "            q_values_intra[state, action] += alpha*(reward_bar + (gamma**steps)*np.max(q_values_intra[state,:]) - q_values_intra[state,action])\n",
        "            update_frequency_intra[state, action] += 1"
      ],
      "metadata": {
        "colab": {
          "base_uri": "https://localhost:8080/"
        },
        "id": "mabZ2VrAxYaC",
        "outputId": "c20886ca-5329-4a7e-d197-809a628cbdcf"
      },
      "execution_count": 11,
      "outputs": [
        {
          "output_type": "stream",
          "name": "stderr",
          "text": [
            "100%|██████████| 1000/1000 [00:01<00:00, 611.92it/s]\n"
          ]
        }
      ]
    },
    {
      "cell_type": "markdown",
      "metadata": {
        "id": "JzUgcwL-VfkO"
      },
      "source": [
        "# Task 4\n",
        "Compare the two Q-Tables and Update Frequencies and provide comments."
      ]
    },
    {
      "cell_type": "code",
      "execution_count": 29,
      "metadata": {
        "id": "v8mZE74_Vhmg",
        "colab": {
          "base_uri": "https://localhost:8080/"
        },
        "outputId": "623d3165-b789-424b-8f4c-205da1a85be3"
      },
      "outputs": [
        {
          "output_type": "stream",
          "name": "stdout",
          "text": [
            "Comparison of final Q-tables:\n",
            "SMDP Q-Learning Q-table:\n",
            "[[  -7.50877774   -7.50954513   -7.51442257   -7.52002679   -7.51193566\n",
            "    -7.51997296]\n",
            " [  -7.32936137   -7.3105195    -7.31482208   -7.34798965   -7.3439365\n",
            "    -7.32990203]\n",
            " [  -7.09673422   -7.07188656   -7.0772615    -7.0834586    -7.09997476\n",
            "    -7.09532597]\n",
            " [  -6.84054652   -6.787103     -6.78640821   -6.7850336    -6.79731326\n",
            "    -6.82385045]\n",
            " [  -6.49970169   -6.45532361   -6.45621093   -6.57527387   -6.46828304\n",
            "    -6.48743223]\n",
            " [  -6.08685753   -6.0865382    -6.08843547   -6.1638715    -6.13503919\n",
            "    -6.10839513]\n",
            " [  -5.71178006   -5.66646538   -5.66762344   -5.69893591   -5.67528755\n",
            "    -5.73098255]\n",
            " [  -5.2096934    -5.1983116    -5.19844184   -5.27566419   -5.26439787\n",
            "    -5.22411082]\n",
            " [  -4.77796163   -4.6755327    -4.67636459   -4.96691502   -4.7163492\n",
            "    -4.6828786 ]\n",
            " [  -4.20009785   -4.09010502   -4.0901687    -4.43810666   -4.11368439\n",
            "    -4.10847639]\n",
            " [  -3.439389     -3.43714149   -3.43716368   -3.6613163    -3.43754405\n",
            "    -3.64521381]\n",
            " [  -2.85807982   -3.02931396   -2.7099948    -2.80138667   -2.93185672\n",
            "    -2.81494641]\n",
            " [  -7.32771506   -7.30796401   -7.32247985   -7.33473997   -7.36970242\n",
            "    -7.39017597]\n",
            " [  -7.11389779   -7.09794043   -7.1032606    -7.11075476   -7.12986954\n",
            "    -7.11427587]\n",
            " [  -6.8541261    -6.81356452   -6.8226979    -6.87690789   -6.98189471\n",
            "    -6.99191587]\n",
            " [  -6.58332287   -6.48257401   -6.48411031   -6.62684682   -6.64588909\n",
            "    -6.67294102]\n",
            " [  -6.1305482    -6.10856313   -6.10910955   -6.17743435   -6.18392517\n",
            "    -6.21407417]\n",
            " [  -5.93695309   -5.68546257   -5.68502006   -5.74558627   -5.93611348\n",
            "    -5.92673909]\n",
            " [  -5.39721577   -5.21154724   -5.21154766   -5.32482837   -5.50064202\n",
            "    -5.66894344]\n",
            " [  -4.809273     -4.68296927   -4.6831529    -4.80322861   -4.95579174\n",
            "    -5.13381159]\n",
            " [  -4.47524331   -4.0941282    -4.09415447   -4.16155597   -4.34294927\n",
            "    -4.56056478]\n",
            " [  -3.70137237   -3.43867498   -3.43868452   -3.86166433   -3.44357471\n",
            "    -4.02504172]\n",
            " [  -2.87621332   -2.70995373   -2.70995643   -2.81925758   -3.15231769\n",
            "    -2.77377334]\n",
            " [  -2.55840422   -2.11789204   -1.9          -2.34378922   -2.56286243\n",
            "    -2.63233742]\n",
            " [  -7.41029097   -7.17570464   -7.51560832   -7.39249229   -7.8828451\n",
            "    -7.79693381]\n",
            " [  -7.19303846   -6.86189404 -102.05013445   -7.30792586   -7.72586812\n",
            "    -7.84780344]\n",
            " [  -6.92330456   -6.5132156   -95.97357498   -7.03150796   -7.48813091\n",
            "    -7.49364516]\n",
            " [  -6.44211074   -6.12579511  -96.932233     -6.72059051   -7.16244146\n",
            "    -7.3246566 ]\n",
            " [  -6.25454578   -5.6953279  -100.3015843    -6.14540026   -7.16498863\n",
            "    -6.84245055]\n",
            " [  -5.79729775   -5.217031   -100.96393936   -5.82583212   -6.73260179\n",
            "    -6.59125372]\n",
            " [  -5.28841003   -4.68559     -99.5761268    -5.44465241   -6.32199218\n",
            "    -6.30457437]\n",
            " [  -4.80580847   -4.0951      -94.76464298   -4.93926289   -5.89902391\n",
            "    -5.71262501]\n",
            " [  -4.22702594   -3.439       -92.14068719   -4.29797979   -4.98887402\n",
            "    -5.34795367]\n",
            " [  -3.70417474   -2.71        -92.099285     -3.71909121   -5.07688158\n",
            "    -5.12540536]\n",
            " [  -3.13344153   -1.9         -82.12921399   -3.27631824   -4.08937028\n",
            "    -4.56658303]\n",
            " [  -2.39397175   -1.65818279   -1.           -2.03162921   -3.97803645\n",
            "    -4.26268139]\n",
            " [  -7.45813417 -102.80813884   -7.61362082   -7.67430645   -7.96189369\n",
            "    -7.90170509]\n",
            " [   0.            0.            0.            0.            0.\n",
            "     0.        ]\n",
            " [   0.            0.            0.            0.            0.\n",
            "     0.        ]\n",
            " [   0.            0.            0.            0.            0.\n",
            "     0.        ]\n",
            " [   0.            0.            0.            0.            0.\n",
            "     0.        ]\n",
            " [   0.            0.            0.            0.            0.\n",
            "     0.        ]\n",
            " [   0.            0.            0.            0.            0.\n",
            "     0.        ]\n",
            " [   0.            0.            0.            0.            0.\n",
            "     0.        ]\n",
            " [   0.            0.            0.            0.            0.\n",
            "     0.        ]\n",
            " [   0.            0.            0.            0.            0.\n",
            "     0.        ]\n",
            " [   0.            0.            0.            0.            0.\n",
            "     0.        ]\n",
            " [   0.            0.            0.            0.            0.\n",
            "     0.        ]]\n",
            "\n",
            "Intra-Option Q-Learning Q-table:\n",
            "[[  -7.4880433    -7.48174397   -7.48284535   -7.48897755   -7.97156307\n",
            "    -8.01549091]\n",
            " [  -7.25590989   -7.25918464   -7.2558419    -7.28889025   -7.58431895\n",
            "   -50.03341047]\n",
            " [  -7.03771096   -7.01560682   -7.01113935   -7.02869809   -7.42074467\n",
            "   -42.65321011]\n",
            " [  -6.76726858   -6.73420453   -6.73254339   -6.75504848   -7.12751838\n",
            "   -42.53596252]\n",
            " [  -6.44262176   -6.41826943   -6.41463593   -6.41985286   -6.76156391\n",
            "   -34.91929102]\n",
            " [  -6.10071924   -6.06391356   -6.06273096   -6.13271203   -6.2946244\n",
            "   -37.44999044]\n",
            " [  -5.73081679   -5.65617242   -5.65563743   -5.90759998   -6.50143982\n",
            "   -37.36174907]\n",
            " [  -5.23577439   -5.18976019   -5.19050587   -5.30315881   -6.0206989\n",
            "   -40.85084393]\n",
            " [  -4.76922914   -4.67029784   -4.67024196   -4.77535052   -5.66479114\n",
            "   -42.94027296]\n",
            " [  -4.121201     -4.08879454   -4.08932074   -4.30596266   -5.23531999\n",
            "   -42.94505127]\n",
            " [  -3.49383633   -3.43779282   -3.43777566   -3.5311038    -4.86606734\n",
            "   -51.91100055]\n",
            " [  -2.80276134   -2.81811452   -2.7099878    -2.98828916   -3.86170029\n",
            "    -3.02643102]\n",
            " [  -7.3409209    -7.28762393   -7.29127182   -7.28441045   -7.67225962\n",
            "    -7.51043277]\n",
            " [  -7.1017214    -7.08703211   -7.08579788   -7.08417771   -7.30925552\n",
            "   -75.28577982]\n",
            " [  -6.82212586   -6.8067621    -6.8059429    -6.86250867   -7.03310079\n",
            "   -65.89115711]\n",
            " [  -6.48695933   -6.48014166   -6.47922176   -6.54696139   -6.68398956\n",
            "   -78.96224136]\n",
            " [  -6.11070069   -6.10585394   -6.10640509   -6.15587199   -6.32591205\n",
            "   -70.97762529]\n",
            " [  -5.75191847   -5.68413083   -5.68437088   -5.68757034   -5.96679847\n",
            "   -72.88861005]\n",
            " [  -5.3092105    -5.21146329   -5.21201455   -5.26675231   -5.57796512\n",
            "   -80.77059505]\n",
            " [  -4.74659183   -4.6828342    -4.68294188   -4.81486537   -5.07199346\n",
            "   -65.95869318]\n",
            " [  -4.19115327   -4.09412474   -4.0940867    -4.34471778   -4.46288289\n",
            "   -69.29170423]\n",
            " [  -3.44493295   -3.43879446   -3.43878709   -3.59844493   -3.84098056\n",
            "   -69.07232025]\n",
            " [  -3.13979482   -2.70996517   -2.70996819   -3.29634748   -3.55052134\n",
            "   -73.7849474 ]\n",
            " [  -2.59911046   -2.17672698   -1.9          -2.05813061   -2.99375193\n",
            "    -1.9       ]\n",
            " [  -7.36807664   -7.17570464   -7.62563897   -7.40440858   -7.60805228\n",
            "    -7.62563897]\n",
            " [  -7.23474326   -6.86189404  -95.91972416   -7.21757938   -7.41059079\n",
            "   -95.91972416]\n",
            " [  -6.88578582   -6.5132156   -84.05228256   -6.93864666   -7.07647347\n",
            "   -84.05228256]\n",
            " [  -6.61350844   -6.12579511 -100.32226671   -6.63280146   -6.79921251\n",
            "  -100.32226671]\n",
            " [  -6.22066966   -5.6953279   -81.64373427   -6.27208663   -6.41099012\n",
            "   -81.64373427]\n",
            " [  -5.81828506   -5.217031    -92.10876009   -5.94601286   -6.04751\n",
            "   -92.10876009]\n",
            " [  -5.42862678   -4.68559     -95.91705421   -5.41609332   -5.71276469\n",
            "   -95.91705421]\n",
            " [  -4.73320671   -4.0951      -79.26378706   -4.9858518    -5.02443602\n",
            "   -79.26378706]\n",
            " [  -4.36803303   -3.439       -81.95734563   -4.55690529   -4.65326965\n",
            "   -81.95734563]\n",
            " [  -3.86994607   -2.71        -84.28499166   -3.83049416   -4.21738154\n",
            "   -84.28499166]\n",
            " [  -3.22904253   -1.9         -88.79899311   -3.03390363   -3.64678187\n",
            "   -88.79899311]\n",
            " [  -2.36565361   -1.70475575   -1.           -2.57697717   -2.91434468\n",
            "    -1.        ]\n",
            " [  -7.45813417  -91.70307061   -7.66019164   -7.65079119   -7.84724704\n",
            "    -7.82955103]\n",
            " [   0.            0.            0.            0.            0.\n",
            "     0.        ]\n",
            " [   0.            0.            0.            0.            0.\n",
            "     0.        ]\n",
            " [   0.            0.            0.            0.            0.\n",
            "     0.        ]\n",
            " [   0.            0.            0.            0.            0.\n",
            "     0.        ]\n",
            " [   0.            0.            0.            0.            0.\n",
            "     0.        ]\n",
            " [   0.            0.            0.            0.            0.\n",
            "     0.        ]\n",
            " [   0.            0.            0.            0.            0.\n",
            "     0.        ]\n",
            " [   0.            0.            0.            0.            0.\n",
            "     0.        ]\n",
            " [   0.            0.            0.            0.            0.\n",
            "     0.        ]\n",
            " [   0.            0.            0.            0.            0.\n",
            "     0.        ]\n",
            " [   0.            0.            0.            0.            0.\n",
            "     0.        ]]\n",
            "\n",
            "Comparison of update frequencies:\n",
            "SMDP Q-Learning Update Frequency:\n",
            "[[ 139.  211.  297.  140.  139.  139.]\n",
            " [ 132.  230.  270.  105.  133.  132.]\n",
            " [ 124.  237.  257.   96.  124.  124.]\n",
            " [ 116.  239.  243.   88.  114.  115.]\n",
            " [ 105.  235.  225.   82.  104.  105.]\n",
            " [  94.  227.  210.   74.   95.   94.]\n",
            " [  85.  218.  191.   65.   84.   85.]\n",
            " [  74.  201.  173.   58.   75.   74.]\n",
            " [  65.  174.  156.   53.   64.   63.]\n",
            " [  55.  146.  141.   46.   53.   53.]\n",
            " [  42.  101.  129.   37.   42.   46.]\n",
            " [  34.   37.  161.   29.   35.   33.]\n",
            " [  88.  198.  141.  132.   57.   57.]\n",
            " [  84.  223.  157.   99.   53.   53.]\n",
            " [  78.  231.  160.   89.   51.   51.]\n",
            " [  72.  225.  155.   82.   47.   47.]\n",
            " [  64.  225.  150.   73.   41.   41.]\n",
            " [  61.  217.  142.   65.   39.   38.]\n",
            " [  52.  202.  134.   58.   34.   36.]\n",
            " [  44.  186.  128.   50.   29.   31.]\n",
            " [  40.  168.  123.   42.   24.   26.]\n",
            " [  31.  144.  120.   38.   18.   22.]\n",
            " [  23.  121.  126.   27.   16.   14.]\n",
            " [  20.   24.  238.   22.   13.   13.]\n",
            " [ 145. 1121.   97.  140.   54.   51.]\n",
            " [ 112. 1024.   30.   97.   51.   57.]\n",
            " [  98.  967.   22.   93.   46.   46.]\n",
            " [  81.  917.   23.   88.   40.   45.]\n",
            " [  79.  873.   27.   72.   46.   37.]\n",
            " [  69.  841.   28.   67.   38.   35.]\n",
            " [  58.  816.   26.   63.   33.   34.]\n",
            " [  51.  805.   21.   55.   30.   27.]\n",
            " [  43.  813.   19.   45.   21.   25.]\n",
            " [  37.  827.   19.   38.   25.   26.]\n",
            " [  32.  847.   14.   39.   17.   22.]\n",
            " [  24.   23. 1000.   18.   19.   24.]\n",
            " [1230.   32.  146.  155.   49.   47.]\n",
            " [   0.    0.    0.    0.    0.    0.]\n",
            " [   0.    0.    0.    0.    0.    0.]\n",
            " [   0.    0.    0.    0.    0.    0.]\n",
            " [   0.    0.    0.    0.    0.    0.]\n",
            " [   0.    0.    0.    0.    0.    0.]\n",
            " [   0.    0.    0.    0.    0.    0.]\n",
            " [   0.    0.    0.    0.    0.    0.]\n",
            " [   0.    0.    0.    0.    0.    0.]\n",
            " [   0.    0.    0.    0.    0.    0.]\n",
            " [   0.    0.    0.    0.    0.    0.]\n",
            " [   0.    0.    0.    0.    0.    0.]]\n",
            "\n",
            "Intra-Option Q-Learning Update Frequency:\n",
            "[[ 138.  209.  151.  138.  207.  227.]\n",
            " [ 129.  220.  142.  106.  167.  174.]\n",
            " [ 122.  225.  140.   94.  163.  170.]\n",
            " [ 113.  220.  135.   86.  149.  159.]\n",
            " [ 103.  216.  131.   78.  135.  169.]\n",
            " [  94.  197.  125.   71.  119.  152.]\n",
            " [  85.  201.  120.   67.  132.  156.]\n",
            " [  74.  186.  111.   56.  111.  138.]\n",
            " [  65.  162.  105.   49.   94.  130.]\n",
            " [  53.  132.  104.   43.   88.  132.]\n",
            " [  43.  103.  107.   34.   73.  139.]\n",
            " [  33.   33.  136.   30.   54.  167.]\n",
            " [ 131.  196.  105.  130.  131.  105.]\n",
            " [ 117.  225.  120.   98.  117.  120.]\n",
            " [ 104.  227.  124.   88.  104.  124.]\n",
            " [  93.  229.  124.   80.   93.  124.]\n",
            " [  82.  219.  120.   72.   82.  120.]\n",
            " [  74.  211.  116.   64.   74.  116.]\n",
            " [  65.  199.  114.   57.   65.  114.]\n",
            " [  56.  181.  110.   50.   56.  110.]\n",
            " [  47.  167.  109.   43.   47.  109.]\n",
            " [  36.  151.  114.   34.   36.  114.]\n",
            " [  31.  124.  122.   31.   31.  122.]\n",
            " [  24.   25.  232.   19.   24.  232.]\n",
            " [ 201. 1067.  100.  142.  201.  100.]\n",
            " [ 145.  980.   22.   90.  145.   22.]\n",
            " [ 115.  937.   15.   87.  115.   15.]\n",
            " [ 104.  891.   27.   82.  104.   27.]\n",
            " [  91.  872.   14.   76.   91.   14.]\n",
            " [  81.  858.   19.   72.   81.   19.]\n",
            " [  72.  822.   22.   61.   72.   22.]\n",
            " [  57.  826.   13.   57.   57.   13.]\n",
            " [  52.  821.   14.   55.   52.   14.]\n",
            " [  46.  829.   15.   41.   46.   15.]\n",
            " [  38.  855.   17.   30.   38.   17.]\n",
            " [  24.   25. 1000.   33.   24. 1000.]\n",
            " [1228.   19.  152.  150. 1228.  152.]\n",
            " [   0.    0.    0.    0.    0.    0.]\n",
            " [   0.    0.    0.    0.    0.    0.]\n",
            " [   0.    0.    0.    0.    0.    0.]\n",
            " [   0.    0.    0.    0.    0.    0.]\n",
            " [   0.    0.    0.    0.    0.    0.]\n",
            " [   0.    0.    0.    0.    0.    0.]\n",
            " [   0.    0.    0.    0.    0.    0.]\n",
            " [   0.    0.    0.    0.    0.    0.]\n",
            " [   0.    0.    0.    0.    0.    0.]\n",
            " [   0.    0.    0.    0.    0.    0.]\n",
            " [   0.    0.    0.    0.    0.    0.]]\n"
          ]
        }
      ],
      "source": [
        "# Use this cell for Task 4 Code# Task 4\n",
        "# Compare the two Q-Tables and Update Frequencies and provide comments.\n",
        "\n",
        "# Compare final Q-tables\n",
        "print(\"Comparison of final Q-tables:\")\n",
        "print(\"SMDP Q-Learning Q-table:\")\n",
        "print(q_values_smdp)\n",
        "print(\"\\nIntra-Option Q-Learning Q-table:\")\n",
        "print(q_values_intra)\n",
        "\n",
        "# Compare update frequencies\n",
        "print(\"\\nComparison of update frequencies:\")\n",
        "print(\"SMDP Q-Learning Update Frequency:\")\n",
        "print(update_frequency_smdp)\n",
        "print(\"\\nIntra-Option Q-Learning Update Frequency:\")\n",
        "print(update_frequency_intra)"
      ]
    },
    {
      "cell_type": "code",
      "source": [
        "import matplotlib.pyplot as plt\n",
        "\n",
        "# Function to plot heatmap\n",
        "def plot_heatmap(data, title):\n",
        "    plt.figure(figsize=(10, 8))\n",
        "    plt.imshow(data, cmap='viridis', interpolation='nearest')\n",
        "    plt.title(title)\n",
        "    plt.colorbar()\n",
        "    plt.xlabel('Actions')\n",
        "    plt.ylabel('States')\n",
        "    plt.show()"
      ],
      "metadata": {
        "id": "BI_8sndQBz0E"
      },
      "execution_count": 26,
      "outputs": []
    },
    {
      "cell_type": "code",
      "source": [
        "# Plot heatmaps for Q-values and update frequencies for SMDP Q-Learning\n",
        "plot_heatmap(q_values_smdp, 'Q-Values (SMDP Q-Learning)')\n",
        "print('\\n')\n",
        "plot_heatmap(update_frequency_smdp, 'Update Frequencies (SMDP Q-Learning)')"
      ],
      "metadata": {
        "colab": {
          "base_uri": "https://localhost:8080/",
          "height": 1000
        },
        "id": "rXvQ6WzXCDbj",
        "outputId": "340fc1eb-7db4-4222-e597-e31f1d040e17"
      },
      "execution_count": 27,
      "outputs": [
        {
          "output_type": "display_data",
          "data": {
            "text/plain": [
              "<Figure size 1000x800 with 2 Axes>"
            ],
            "image/png": "[encoded data removed]"
          },
          "metadata": {}
        },
        {
          "output_type": "stream",
          "name": "stdout",
          "text": [
            "\n",
            "\n"
          ]
        },
        {
          "output_type": "display_data",
          "data": {
            "text/plain": [
              "<Figure size 1000x800 with 2 Axes>"
            ],
            "image/png": "[encoded data removed]"
          },
          "metadata": {}
        }
      ]
    },
    {
      "cell_type": "code",
      "source": [
        "# Plot heatmaps for Q-values and update frequencies for Intra-Option Q-Learning\n",
        "plot_heatmap(q_values_intra, 'Q-Values (Intra-Option Q-Learning)')\n",
        "print('\\n')\n",
        "plot_heatmap(update_frequency_intra, 'Update Frequencies (Intra-Option Q-Learning)')"
      ],
      "metadata": {
        "colab": {
          "base_uri": "https://localhost:8080/",
          "height": 1000
        },
        "id": "26smiKNdCFOJ",
        "outputId": "3094a223-b5d3-4a52-f30b-74a93a063a45"
      },
      "execution_count": 28,
      "outputs": [
        {
          "output_type": "display_data",
          "data": {
            "text/plain": [
              "<Figure size 1000x800 with 2 Axes>"
            ],
            "image/png": "[encoded data removed]"
          },
          "metadata": {}
        },
        {
          "output_type": "stream",
          "name": "stdout",
          "text": [
            "\n",
            "\n"
          ]
        },
        {
          "output_type": "display_data",
          "data": {
            "text/plain": [
              "<Figure size 1000x800 with 2 Axes>"
            ],
            "image/png": "[encoded data removed]"
          },
          "metadata": {}
        }
      ]
    },
    {
      "cell_type": "markdown",
      "metadata": {
        "id": "SemE13ORV04n"
      },
      "source": [
        "Use this text cell for your comments - Task 4\n"
      ]
    },
    {
      "cell_type": "markdown",
      "source": [
        "# **Inference**\n",
        "\n"
      ],
      "metadata": {
        "id": "2Qq0OM7nUOmH"
      }
    },
    {
      "cell_type": "markdown",
      "source": [
        "1. **Q-Value Comparison**:\n",
        "   - The Q-tables obtained from SMDP Q-Learning and Intra-Option Q-Learning differ significantly.\n",
        "   - In SMDP Q-Learning, the Q-values are generally higher, with more negative values compared to Intra-Option Q-Learning.\n",
        "   - In Intra-Option Q-Learning, there are extremely negative values (e.g., -50.03, -42.65) indicating potentially catastrophic actions or terminal states.\n",
        "\n",
        "2. **Update Frequency Comparison**:\n",
        "   - The update frequencies for both approaches also differ notably.\n",
        "   - In SMDP Q-Learning, there is a higher update frequency for many state-action pairs compared to Intra-Option Q-Learning.\n",
        "   - In Intra-Option Q-Learning, the update frequencies are generally lower, possibly indicating slower convergence or exploration in certain regions of the state-action space.\n",
        "\n",
        "3. **Overall Comparison**:\n",
        "   - SMDP Q-Learning tends to update Q-values more frequently, potentially leading to faster convergence, but it may also be prone to overfitting or instability.\n",
        "   - Intra-Option Q-Learning appears to have less aggressive updates, which might result in smoother learning but could also lead to slower convergence or suboptimal policies if exploration is insufficient."
      ],
      "metadata": {
        "id": "t99TFsY_UVQ9"
      }
    },
    {
      "cell_type": "code",
      "source": [],
      "metadata": {
        "id": "lfhw_NFLURKL"
      },
      "execution_count": null,
      "outputs": []
    }
  ],
  "metadata": {
    "accelerator": "GPU",
    "colab": {
      "provenance": []
    },
    "kernelspec": {
      "display_name": "Python 3 (ipykernel)",
      "language": "python",
      "name": "python3"
    },
    "language_info": {
      "codemirror_mode": {
        "name": "ipython",
        "version": 3
      },
      "file_extension": ".py",
      "mimetype": "text/x-python",
      "name": "python",
      "nbconvert_exporter": "python",
      "pygments_lexer": "ipython3",
      "version": "3.8.10"
    }
  },
  "nbformat": 4,
  "nbformat_minor": 0
}